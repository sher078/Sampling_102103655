{
  "cells": [
    {
      "cell_type": "code",
      "execution_count": 1,
      "metadata": {
        "id": "50NtuFUfNpF6"
      },
      "outputs": [],
      "source": [
        "import pandas as pd\n",
        "import numpy as np\n",
        "import pandas as pd\n",
        "import matplotlib.pyplot as plt\n",
        "from sklearn.model_selection import train_test_split\n",
        "from sklearn.ensemble import RandomForestClassifier\n",
        "from sklearn.linear_model import LogisticRegression\n",
        "from sklearn.naive_bayes import GaussianNB\n",
        "from sklearn.tree import DecisionTreeClassifier\n",
        "from sklearn.linear_model import SGDClassifier\n",
        "from sklearn.metrics import accuracy_score\n",
        "from imblearn.over_sampling import RandomOverSampler\n",
        "from collections import Counter\n",
        "from sklearn.preprocessing import normalize\n",
        "from sklearn import svm"
      ]
    },
    {
      "cell_type": "code",
      "execution_count": 2,
      "metadata": {
        "id": "RuxbLsGUON05"
      },
      "outputs": [],
      "source": [
        "url = \"https://raw.githubusercontent.com/AnjulaMehto/Sampling_Assignment/main/Creditcard_data.csv\"\n",
        "df = pd.read_csv(url)"
      ]
    },
    {
      "cell_type": "code",
      "execution_count": 3,
      "metadata": {
        "colab": {
          "base_uri": "https://localhost:8080/"
        },
        "id": "GHQnyYTJQTgN",
        "outputId": "837e9043-aeb9-44d7-9ada-8923484d41c4"
      },
      "outputs": [
        {
          "data": {
            "text/plain": [
              "0    763\n",
              "1      9\n",
              "Name: Class, dtype: int64"
            ]
          },
          "execution_count": 3,
          "metadata": {},
          "output_type": "execute_result"
        }
      ],
      "source": [
        "df.Class.value_counts()"
      ]
    },
    {
      "cell_type": "code",
      "execution_count": 4,
      "metadata": {
        "colab": {
          "base_uri": "https://localhost:8080/",
          "height": 256
        },
        "id": "QwlhnPgx3Eqs",
        "outputId": "559ca7c6-e03b-4c84-c3b8-562dfa4298b3"
      },
      "outputs": [
        {
          "data": {
            "text/html": [
              "<div>\n",
              "<style scoped>\n",
              "    .dataframe tbody tr th:only-of-type {\n",
              "        vertical-align: middle;\n",
              "    }\n",
              "\n",
              "    .dataframe tbody tr th {\n",
              "        vertical-align: top;\n",
              "    }\n",
              "\n",
              "    .dataframe thead th {\n",
              "        text-align: right;\n",
              "    }\n",
              "</style>\n",
              "<table border=\"1\" class=\"dataframe\">\n",
              "  <thead>\n",
              "    <tr style=\"text-align: right;\">\n",
              "      <th></th>\n",
              "      <th>V1</th>\n",
              "      <th>V2</th>\n",
              "      <th>V3</th>\n",
              "      <th>V4</th>\n",
              "      <th>V5</th>\n",
              "      <th>V6</th>\n",
              "      <th>V7</th>\n",
              "      <th>V8</th>\n",
              "      <th>V9</th>\n",
              "      <th>V10</th>\n",
              "      <th>...</th>\n",
              "      <th>V21</th>\n",
              "      <th>V22</th>\n",
              "      <th>V23</th>\n",
              "      <th>V24</th>\n",
              "      <th>V25</th>\n",
              "      <th>V26</th>\n",
              "      <th>V27</th>\n",
              "      <th>V28</th>\n",
              "      <th>Amount</th>\n",
              "      <th>Class</th>\n",
              "    </tr>\n",
              "  </thead>\n",
              "  <tbody>\n",
              "    <tr>\n",
              "      <th>0</th>\n",
              "      <td>-1.359807</td>\n",
              "      <td>-0.072781</td>\n",
              "      <td>2.536347</td>\n",
              "      <td>1.378155</td>\n",
              "      <td>-0.338321</td>\n",
              "      <td>0.462388</td>\n",
              "      <td>0.239599</td>\n",
              "      <td>0.098698</td>\n",
              "      <td>0.363787</td>\n",
              "      <td>0.090794</td>\n",
              "      <td>...</td>\n",
              "      <td>-0.018307</td>\n",
              "      <td>0.277838</td>\n",
              "      <td>-0.110474</td>\n",
              "      <td>0.066928</td>\n",
              "      <td>0.128539</td>\n",
              "      <td>-0.189115</td>\n",
              "      <td>0.133558</td>\n",
              "      <td>-0.021053</td>\n",
              "      <td>0.025729</td>\n",
              "      <td>0</td>\n",
              "    </tr>\n",
              "    <tr>\n",
              "      <th>1</th>\n",
              "      <td>1.191857</td>\n",
              "      <td>0.266151</td>\n",
              "      <td>0.166480</td>\n",
              "      <td>0.448154</td>\n",
              "      <td>0.060018</td>\n",
              "      <td>-0.082361</td>\n",
              "      <td>-0.078803</td>\n",
              "      <td>0.085102</td>\n",
              "      <td>-0.255425</td>\n",
              "      <td>-0.166974</td>\n",
              "      <td>...</td>\n",
              "      <td>-0.225775</td>\n",
              "      <td>-0.638672</td>\n",
              "      <td>0.101288</td>\n",
              "      <td>-0.339846</td>\n",
              "      <td>0.167170</td>\n",
              "      <td>0.125895</td>\n",
              "      <td>-0.008983</td>\n",
              "      <td>0.014724</td>\n",
              "      <td>0.000463</td>\n",
              "      <td>1</td>\n",
              "    </tr>\n",
              "    <tr>\n",
              "      <th>2</th>\n",
              "      <td>-1.358354</td>\n",
              "      <td>-1.340163</td>\n",
              "      <td>1.773209</td>\n",
              "      <td>0.379780</td>\n",
              "      <td>-0.503198</td>\n",
              "      <td>1.800499</td>\n",
              "      <td>0.791461</td>\n",
              "      <td>0.247676</td>\n",
              "      <td>-1.514654</td>\n",
              "      <td>0.207643</td>\n",
              "      <td>...</td>\n",
              "      <td>0.247998</td>\n",
              "      <td>0.771679</td>\n",
              "      <td>0.909412</td>\n",
              "      <td>-0.689281</td>\n",
              "      <td>-0.327642</td>\n",
              "      <td>-0.139097</td>\n",
              "      <td>-0.055353</td>\n",
              "      <td>-0.059752</td>\n",
              "      <td>0.065115</td>\n",
              "      <td>0</td>\n",
              "    </tr>\n",
              "    <tr>\n",
              "      <th>3</th>\n",
              "      <td>-0.966272</td>\n",
              "      <td>-0.185226</td>\n",
              "      <td>1.792993</td>\n",
              "      <td>-0.863291</td>\n",
              "      <td>-0.010309</td>\n",
              "      <td>1.247203</td>\n",
              "      <td>0.237609</td>\n",
              "      <td>0.377436</td>\n",
              "      <td>-1.387024</td>\n",
              "      <td>-0.054952</td>\n",
              "      <td>...</td>\n",
              "      <td>-0.108300</td>\n",
              "      <td>0.005274</td>\n",
              "      <td>-0.190321</td>\n",
              "      <td>-1.175575</td>\n",
              "      <td>0.647376</td>\n",
              "      <td>-0.221929</td>\n",
              "      <td>0.062723</td>\n",
              "      <td>0.061458</td>\n",
              "      <td>0.021237</td>\n",
              "      <td>0</td>\n",
              "    </tr>\n",
              "    <tr>\n",
              "      <th>4</th>\n",
              "      <td>-1.158233</td>\n",
              "      <td>0.877737</td>\n",
              "      <td>1.548718</td>\n",
              "      <td>0.403034</td>\n",
              "      <td>-0.407193</td>\n",
              "      <td>0.095921</td>\n",
              "      <td>0.592941</td>\n",
              "      <td>-0.270533</td>\n",
              "      <td>0.817739</td>\n",
              "      <td>0.753074</td>\n",
              "      <td>...</td>\n",
              "      <td>-0.009431</td>\n",
              "      <td>0.798278</td>\n",
              "      <td>-0.137458</td>\n",
              "      <td>0.141267</td>\n",
              "      <td>-0.206010</td>\n",
              "      <td>0.502292</td>\n",
              "      <td>0.219422</td>\n",
              "      <td>0.215153</td>\n",
              "      <td>0.012036</td>\n",
              "      <td>0</td>\n",
              "    </tr>\n",
              "  </tbody>\n",
              "</table>\n",
              "<p>5 rows × 30 columns</p>\n",
              "</div>"
            ],
            "text/plain": [
              "         V1        V2        V3        V4        V5        V6        V7  \\\n",
              "0 -1.359807 -0.072781  2.536347  1.378155 -0.338321  0.462388  0.239599   \n",
              "1  1.191857  0.266151  0.166480  0.448154  0.060018 -0.082361 -0.078803   \n",
              "2 -1.358354 -1.340163  1.773209  0.379780 -0.503198  1.800499  0.791461   \n",
              "3 -0.966272 -0.185226  1.792993 -0.863291 -0.010309  1.247203  0.237609   \n",
              "4 -1.158233  0.877737  1.548718  0.403034 -0.407193  0.095921  0.592941   \n",
              "\n",
              "         V8        V9       V10  ...       V21       V22       V23       V24  \\\n",
              "0  0.098698  0.363787  0.090794  ... -0.018307  0.277838 -0.110474  0.066928   \n",
              "1  0.085102 -0.255425 -0.166974  ... -0.225775 -0.638672  0.101288 -0.339846   \n",
              "2  0.247676 -1.514654  0.207643  ...  0.247998  0.771679  0.909412 -0.689281   \n",
              "3  0.377436 -1.387024 -0.054952  ... -0.108300  0.005274 -0.190321 -1.175575   \n",
              "4 -0.270533  0.817739  0.753074  ... -0.009431  0.798278 -0.137458  0.141267   \n",
              "\n",
              "        V25       V26       V27       V28    Amount  Class  \n",
              "0  0.128539 -0.189115  0.133558 -0.021053  0.025729      0  \n",
              "1  0.167170  0.125895 -0.008983  0.014724  0.000463      1  \n",
              "2 -0.327642 -0.139097 -0.055353 -0.059752  0.065115      0  \n",
              "3  0.647376 -0.221929  0.062723  0.061458  0.021237      0  \n",
              "4 -0.206010  0.502292  0.219422  0.215153  0.012036      0  \n",
              "\n",
              "[5 rows x 30 columns]"
            ]
          },
          "execution_count": 4,
          "metadata": {},
          "output_type": "execute_result"
        }
      ],
      "source": [
        "Amount = normalize([df['Amount']])[0]\n",
        "df['Amount'] = Amount\n",
        "df = df.iloc[:, 1:]\n",
        "df.head()"
      ]
    },
    {
      "cell_type": "code",
      "execution_count": 5,
      "metadata": {
        "colab": {
          "base_uri": "https://localhost:8080/"
        },
        "id": "hFko0CXBRzto",
        "outputId": "28bfb7c7-0f5b-48c9-fa50-b6cde92a2c6f"
      },
      "outputs": [
        {
          "name": "stdout",
          "output_type": "stream",
          "text": [
            "0    763\n",
            "1    724\n",
            "Name: Class, dtype: int64\n"
          ]
        }
      ],
      "source": [
        "x = df.drop('Class', axis=1)\n",
        "y = df['Class']\n",
        "\n",
        "sampler = RandomOverSampler(sampling_strategy=0.95)\n",
        "x_resample, y_resample = sampler.fit_resample(x, y)\n",
        "\n",
        "print(y_resample.value_counts())"
      ]
    },
    {
      "cell_type": "code",
      "execution_count": 6,
      "metadata": {
        "colab": {
          "base_uri": "https://localhost:8080/",
          "height": 444
        },
        "id": "zKtcww_cWR07",
        "outputId": "b687bb51-7e2b-4aa6-fd02-c8b65f49ef4e"
      },
      "outputs": [
        {
          "data": {
            "text/html": [
              "<div>\n",
              "<style scoped>\n",
              "    .dataframe tbody tr th:only-of-type {\n",
              "        vertical-align: middle;\n",
              "    }\n",
              "\n",
              "    .dataframe tbody tr th {\n",
              "        vertical-align: top;\n",
              "    }\n",
              "\n",
              "    .dataframe thead th {\n",
              "        text-align: right;\n",
              "    }\n",
              "</style>\n",
              "<table border=\"1\" class=\"dataframe\">\n",
              "  <thead>\n",
              "    <tr style=\"text-align: right;\">\n",
              "      <th></th>\n",
              "      <th>V1</th>\n",
              "      <th>V2</th>\n",
              "      <th>V3</th>\n",
              "      <th>V4</th>\n",
              "      <th>V5</th>\n",
              "      <th>V6</th>\n",
              "      <th>V7</th>\n",
              "      <th>V8</th>\n",
              "      <th>V9</th>\n",
              "      <th>V10</th>\n",
              "      <th>...</th>\n",
              "      <th>V21</th>\n",
              "      <th>V22</th>\n",
              "      <th>V23</th>\n",
              "      <th>V24</th>\n",
              "      <th>V25</th>\n",
              "      <th>V26</th>\n",
              "      <th>V27</th>\n",
              "      <th>V28</th>\n",
              "      <th>Amount</th>\n",
              "      <th>Class</th>\n",
              "    </tr>\n",
              "  </thead>\n",
              "  <tbody>\n",
              "    <tr>\n",
              "      <th>0</th>\n",
              "      <td>-1.359807</td>\n",
              "      <td>-0.072781</td>\n",
              "      <td>2.536347</td>\n",
              "      <td>1.378155</td>\n",
              "      <td>-0.338321</td>\n",
              "      <td>0.462388</td>\n",
              "      <td>0.239599</td>\n",
              "      <td>0.098698</td>\n",
              "      <td>0.363787</td>\n",
              "      <td>0.090794</td>\n",
              "      <td>...</td>\n",
              "      <td>-0.018307</td>\n",
              "      <td>0.277838</td>\n",
              "      <td>-0.110474</td>\n",
              "      <td>0.066928</td>\n",
              "      <td>0.128539</td>\n",
              "      <td>-0.189115</td>\n",
              "      <td>0.133558</td>\n",
              "      <td>-0.021053</td>\n",
              "      <td>0.025729</td>\n",
              "      <td>0</td>\n",
              "    </tr>\n",
              "    <tr>\n",
              "      <th>1</th>\n",
              "      <td>1.191857</td>\n",
              "      <td>0.266151</td>\n",
              "      <td>0.166480</td>\n",
              "      <td>0.448154</td>\n",
              "      <td>0.060018</td>\n",
              "      <td>-0.082361</td>\n",
              "      <td>-0.078803</td>\n",
              "      <td>0.085102</td>\n",
              "      <td>-0.255425</td>\n",
              "      <td>-0.166974</td>\n",
              "      <td>...</td>\n",
              "      <td>-0.225775</td>\n",
              "      <td>-0.638672</td>\n",
              "      <td>0.101288</td>\n",
              "      <td>-0.339846</td>\n",
              "      <td>0.167170</td>\n",
              "      <td>0.125895</td>\n",
              "      <td>-0.008983</td>\n",
              "      <td>0.014724</td>\n",
              "      <td>0.000463</td>\n",
              "      <td>1</td>\n",
              "    </tr>\n",
              "    <tr>\n",
              "      <th>2</th>\n",
              "      <td>-1.358354</td>\n",
              "      <td>-1.340163</td>\n",
              "      <td>1.773209</td>\n",
              "      <td>0.379780</td>\n",
              "      <td>-0.503198</td>\n",
              "      <td>1.800499</td>\n",
              "      <td>0.791461</td>\n",
              "      <td>0.247676</td>\n",
              "      <td>-1.514654</td>\n",
              "      <td>0.207643</td>\n",
              "      <td>...</td>\n",
              "      <td>0.247998</td>\n",
              "      <td>0.771679</td>\n",
              "      <td>0.909412</td>\n",
              "      <td>-0.689281</td>\n",
              "      <td>-0.327642</td>\n",
              "      <td>-0.139097</td>\n",
              "      <td>-0.055353</td>\n",
              "      <td>-0.059752</td>\n",
              "      <td>0.065115</td>\n",
              "      <td>0</td>\n",
              "    </tr>\n",
              "    <tr>\n",
              "      <th>3</th>\n",
              "      <td>-0.966272</td>\n",
              "      <td>-0.185226</td>\n",
              "      <td>1.792993</td>\n",
              "      <td>-0.863291</td>\n",
              "      <td>-0.010309</td>\n",
              "      <td>1.247203</td>\n",
              "      <td>0.237609</td>\n",
              "      <td>0.377436</td>\n",
              "      <td>-1.387024</td>\n",
              "      <td>-0.054952</td>\n",
              "      <td>...</td>\n",
              "      <td>-0.108300</td>\n",
              "      <td>0.005274</td>\n",
              "      <td>-0.190321</td>\n",
              "      <td>-1.175575</td>\n",
              "      <td>0.647376</td>\n",
              "      <td>-0.221929</td>\n",
              "      <td>0.062723</td>\n",
              "      <td>0.061458</td>\n",
              "      <td>0.021237</td>\n",
              "      <td>0</td>\n",
              "    </tr>\n",
              "    <tr>\n",
              "      <th>4</th>\n",
              "      <td>-1.158233</td>\n",
              "      <td>0.877737</td>\n",
              "      <td>1.548718</td>\n",
              "      <td>0.403034</td>\n",
              "      <td>-0.407193</td>\n",
              "      <td>0.095921</td>\n",
              "      <td>0.592941</td>\n",
              "      <td>-0.270533</td>\n",
              "      <td>0.817739</td>\n",
              "      <td>0.753074</td>\n",
              "      <td>...</td>\n",
              "      <td>-0.009431</td>\n",
              "      <td>0.798278</td>\n",
              "      <td>-0.137458</td>\n",
              "      <td>0.141267</td>\n",
              "      <td>-0.206010</td>\n",
              "      <td>0.502292</td>\n",
              "      <td>0.219422</td>\n",
              "      <td>0.215153</td>\n",
              "      <td>0.012036</td>\n",
              "      <td>0</td>\n",
              "    </tr>\n",
              "    <tr>\n",
              "      <th>...</th>\n",
              "      <td>...</td>\n",
              "      <td>...</td>\n",
              "      <td>...</td>\n",
              "      <td>...</td>\n",
              "      <td>...</td>\n",
              "      <td>...</td>\n",
              "      <td>...</td>\n",
              "      <td>...</td>\n",
              "      <td>...</td>\n",
              "      <td>...</td>\n",
              "      <td>...</td>\n",
              "      <td>...</td>\n",
              "      <td>...</td>\n",
              "      <td>...</td>\n",
              "      <td>...</td>\n",
              "      <td>...</td>\n",
              "      <td>...</td>\n",
              "      <td>...</td>\n",
              "      <td>...</td>\n",
              "      <td>...</td>\n",
              "      <td>...</td>\n",
              "    </tr>\n",
              "    <tr>\n",
              "      <th>1482</th>\n",
              "      <td>-2.312227</td>\n",
              "      <td>1.951992</td>\n",
              "      <td>-1.609851</td>\n",
              "      <td>3.997906</td>\n",
              "      <td>-0.522188</td>\n",
              "      <td>-1.426545</td>\n",
              "      <td>-2.537387</td>\n",
              "      <td>1.391657</td>\n",
              "      <td>-2.770089</td>\n",
              "      <td>-2.772272</td>\n",
              "      <td>...</td>\n",
              "      <td>0.517232</td>\n",
              "      <td>-0.035049</td>\n",
              "      <td>-0.465211</td>\n",
              "      <td>0.320198</td>\n",
              "      <td>0.044519</td>\n",
              "      <td>0.177840</td>\n",
              "      <td>0.261145</td>\n",
              "      <td>-0.143276</td>\n",
              "      <td>0.000000</td>\n",
              "      <td>1</td>\n",
              "    </tr>\n",
              "    <tr>\n",
              "      <th>1483</th>\n",
              "      <td>1.191857</td>\n",
              "      <td>0.266151</td>\n",
              "      <td>0.166480</td>\n",
              "      <td>0.448154</td>\n",
              "      <td>0.060018</td>\n",
              "      <td>-0.082361</td>\n",
              "      <td>-0.078803</td>\n",
              "      <td>0.085102</td>\n",
              "      <td>-0.255425</td>\n",
              "      <td>-0.166974</td>\n",
              "      <td>...</td>\n",
              "      <td>-0.225775</td>\n",
              "      <td>-0.638672</td>\n",
              "      <td>0.101288</td>\n",
              "      <td>-0.339846</td>\n",
              "      <td>0.167170</td>\n",
              "      <td>0.125895</td>\n",
              "      <td>-0.008983</td>\n",
              "      <td>0.014724</td>\n",
              "      <td>0.000463</td>\n",
              "      <td>1</td>\n",
              "    </tr>\n",
              "    <tr>\n",
              "      <th>1484</th>\n",
              "      <td>-3.043541</td>\n",
              "      <td>-3.157307</td>\n",
              "      <td>1.088463</td>\n",
              "      <td>2.288644</td>\n",
              "      <td>1.359805</td>\n",
              "      <td>-1.064823</td>\n",
              "      <td>0.325574</td>\n",
              "      <td>-0.067794</td>\n",
              "      <td>-0.270953</td>\n",
              "      <td>-0.838587</td>\n",
              "      <td>...</td>\n",
              "      <td>0.661696</td>\n",
              "      <td>0.435477</td>\n",
              "      <td>1.375966</td>\n",
              "      <td>-0.293803</td>\n",
              "      <td>0.279798</td>\n",
              "      <td>-0.145362</td>\n",
              "      <td>-0.252773</td>\n",
              "      <td>0.035764</td>\n",
              "      <td>0.090968</td>\n",
              "      <td>1</td>\n",
              "    </tr>\n",
              "    <tr>\n",
              "      <th>1485</th>\n",
              "      <td>-0.928088</td>\n",
              "      <td>0.398194</td>\n",
              "      <td>1.741131</td>\n",
              "      <td>0.182673</td>\n",
              "      <td>0.966387</td>\n",
              "      <td>-0.901004</td>\n",
              "      <td>0.879016</td>\n",
              "      <td>-0.156590</td>\n",
              "      <td>-0.142117</td>\n",
              "      <td>-0.574775</td>\n",
              "      <td>...</td>\n",
              "      <td>0.066353</td>\n",
              "      <td>0.281378</td>\n",
              "      <td>-0.257966</td>\n",
              "      <td>0.385384</td>\n",
              "      <td>0.391117</td>\n",
              "      <td>-0.453853</td>\n",
              "      <td>-0.104448</td>\n",
              "      <td>-0.125765</td>\n",
              "      <td>0.000172</td>\n",
              "      <td>1</td>\n",
              "    </tr>\n",
              "    <tr>\n",
              "      <th>1486</th>\n",
              "      <td>-2.000567</td>\n",
              "      <td>-2.495484</td>\n",
              "      <td>2.467149</td>\n",
              "      <td>1.140053</td>\n",
              "      <td>2.462010</td>\n",
              "      <td>0.594262</td>\n",
              "      <td>-2.110183</td>\n",
              "      <td>0.788347</td>\n",
              "      <td>0.958809</td>\n",
              "      <td>-0.328631</td>\n",
              "      <td>...</td>\n",
              "      <td>0.422452</td>\n",
              "      <td>1.195394</td>\n",
              "      <td>0.297836</td>\n",
              "      <td>-0.857105</td>\n",
              "      <td>-0.219322</td>\n",
              "      <td>0.861019</td>\n",
              "      <td>-0.124622</td>\n",
              "      <td>-0.171060</td>\n",
              "      <td>0.000258</td>\n",
              "      <td>1</td>\n",
              "    </tr>\n",
              "  </tbody>\n",
              "</table>\n",
              "<p>1487 rows × 30 columns</p>\n",
              "</div>"
            ],
            "text/plain": [
              "            V1        V2        V3        V4        V5        V6        V7  \\\n",
              "0    -1.359807 -0.072781  2.536347  1.378155 -0.338321  0.462388  0.239599   \n",
              "1     1.191857  0.266151  0.166480  0.448154  0.060018 -0.082361 -0.078803   \n",
              "2    -1.358354 -1.340163  1.773209  0.379780 -0.503198  1.800499  0.791461   \n",
              "3    -0.966272 -0.185226  1.792993 -0.863291 -0.010309  1.247203  0.237609   \n",
              "4    -1.158233  0.877737  1.548718  0.403034 -0.407193  0.095921  0.592941   \n",
              "...        ...       ...       ...       ...       ...       ...       ...   \n",
              "1482 -2.312227  1.951992 -1.609851  3.997906 -0.522188 -1.426545 -2.537387   \n",
              "1483  1.191857  0.266151  0.166480  0.448154  0.060018 -0.082361 -0.078803   \n",
              "1484 -3.043541 -3.157307  1.088463  2.288644  1.359805 -1.064823  0.325574   \n",
              "1485 -0.928088  0.398194  1.741131  0.182673  0.966387 -0.901004  0.879016   \n",
              "1486 -2.000567 -2.495484  2.467149  1.140053  2.462010  0.594262 -2.110183   \n",
              "\n",
              "            V8        V9       V10  ...       V21       V22       V23  \\\n",
              "0     0.098698  0.363787  0.090794  ... -0.018307  0.277838 -0.110474   \n",
              "1     0.085102 -0.255425 -0.166974  ... -0.225775 -0.638672  0.101288   \n",
              "2     0.247676 -1.514654  0.207643  ...  0.247998  0.771679  0.909412   \n",
              "3     0.377436 -1.387024 -0.054952  ... -0.108300  0.005274 -0.190321   \n",
              "4    -0.270533  0.817739  0.753074  ... -0.009431  0.798278 -0.137458   \n",
              "...        ...       ...       ...  ...       ...       ...       ...   \n",
              "1482  1.391657 -2.770089 -2.772272  ...  0.517232 -0.035049 -0.465211   \n",
              "1483  0.085102 -0.255425 -0.166974  ... -0.225775 -0.638672  0.101288   \n",
              "1484 -0.067794 -0.270953 -0.838587  ...  0.661696  0.435477  1.375966   \n",
              "1485 -0.156590 -0.142117 -0.574775  ...  0.066353  0.281378 -0.257966   \n",
              "1486  0.788347  0.958809 -0.328631  ...  0.422452  1.195394  0.297836   \n",
              "\n",
              "           V24       V25       V26       V27       V28    Amount  Class  \n",
              "0     0.066928  0.128539 -0.189115  0.133558 -0.021053  0.025729      0  \n",
              "1    -0.339846  0.167170  0.125895 -0.008983  0.014724  0.000463      1  \n",
              "2    -0.689281 -0.327642 -0.139097 -0.055353 -0.059752  0.065115      0  \n",
              "3    -1.175575  0.647376 -0.221929  0.062723  0.061458  0.021237      0  \n",
              "4     0.141267 -0.206010  0.502292  0.219422  0.215153  0.012036      0  \n",
              "...        ...       ...       ...       ...       ...       ...    ...  \n",
              "1482  0.320198  0.044519  0.177840  0.261145 -0.143276  0.000000      1  \n",
              "1483 -0.339846  0.167170  0.125895 -0.008983  0.014724  0.000463      1  \n",
              "1484 -0.293803  0.279798 -0.145362 -0.252773  0.035764  0.090968      1  \n",
              "1485  0.385384  0.391117 -0.453853 -0.104448 -0.125765  0.000172      1  \n",
              "1486 -0.857105 -0.219322  0.861019 -0.124622 -0.171060  0.000258      1  \n",
              "\n",
              "[1487 rows x 30 columns]"
            ]
          },
          "execution_count": 6,
          "metadata": {},
          "output_type": "execute_result"
        }
      ],
      "source": [
        "resample = pd.concat([x_resample, y_resample], axis=1)\n",
        "resample"
      ]
    },
    {
      "cell_type": "code",
      "execution_count": 7,
      "metadata": {
        "colab": {
          "base_uri": "https://localhost:8080/"
        },
        "id": "AQRewcwSVoD_",
        "outputId": "3a3bb76d-2a2e-475d-9e2e-a6af44012d10"
      },
      "outputs": [
        {
          "data": {
            "text/plain": [
              "(384, 30)"
            ]
          },
          "execution_count": 7,
          "metadata": {},
          "output_type": "execute_result"
        }
      ],
      "source": [
        "#Simple Random Sampling\n",
        "n = int((1.96*1.96 * 0.5*0.5)/(0.05**2))\n",
        "SimpleSampling = resample.sample(n=n, random_state=42)\n",
        "SimpleSampling.shape"
      ]
    },
    {
      "cell_type": "code",
      "execution_count": 8,
      "metadata": {
        "colab": {
          "base_uri": "https://localhost:8080/"
        },
        "id": "0EgPi-h6hmhP",
        "outputId": "33d21576-4ce3-4626-8465-49bc92ec9e23"
      },
      "outputs": [
        {
          "name": "stdout",
          "output_type": "stream",
          "text": [
            "LogisticRegression(random_state=42)\n",
            "Logistic Regression : 0.8701\n",
            "SVC(random_state=42)\n",
            "Support Vector Machine : 0.8831\n",
            "GaussianNB()\n",
            "Naive Bayes : 0.7013\n",
            "DecisionTreeClassifier(random_state=42)\n",
            "Decision Trees : 0.9610\n",
            "SGDClassifier()\n",
            "Stochastic Gradient Classifier : 0.8701\n"
          ]
        }
      ],
      "source": [
        "X = SimpleSampling.drop('Class', axis=1)\n",
        "y = SimpleSampling['Class']\n",
        "\n",
        "X_train, X_test, y_train, y_test = train_test_split(X, y, test_size=0.2, random_state=42)\n",
        "\n",
        "lr_model = LogisticRegression(random_state=42)\n",
        "svm_model = svm.SVC(random_state=42)\n",
        "nb_model = GaussianNB()\n",
        "dt_model = DecisionTreeClassifier(random_state=42)\n",
        "sgd_model = SGDClassifier()\n",
        "\n",
        "models = [lr_model, svm_model, nb_model, dt_model, sgd_model]\n",
        "model_names = ['Logistic Regression', 'Support Vector Machine', 'Naive Bayes', 'Decision Trees', 'Stochastic Gradient Classifier']\n",
        "\n",
        "accuracies = []\n",
        "for model, name in zip(models, model_names):\n",
        "    model.fit(X_train, y_train)\n",
        "    print(model)\n",
        "    y_pred = model.predict(X_test)\n",
        "    accuracy = accuracy_score(y_test, y_pred)\n",
        "    accuracies.append(accuracy)\n",
        "    print(f\"{name} : {accuracy:.4f}\")"
      ]
    },
    {
      "cell_type": "code",
      "execution_count": 9,
      "metadata": {
        "colab": {
          "base_uri": "https://localhost:8080/"
        },
        "id": "SRY61shNjrKy",
        "outputId": "110c0de4-c2f1-4382-e97e-a72aff7af3a6"
      },
      "outputs": [
        {
          "data": {
            "text/plain": [
              "(744, 30)"
            ]
          },
          "execution_count": 9,
          "metadata": {},
          "output_type": "execute_result"
        }
      ],
      "source": [
        "#Systematic Sampling\n",
        "import random\n",
        "\n",
        "SystematicSampling = resample.sample(frac=1, random_state=42).reset_index(drop=True)\n",
        "\n",
        "sampling_interval = 2\n",
        "SystematicSample = SystematicSampling.iloc[::sampling_interval]\n",
        "SystematicSample.shape"
      ]
    },
    {
      "cell_type": "code",
      "execution_count": 10,
      "metadata": {
        "colab": {
          "base_uri": "https://localhost:8080/"
        },
        "id": "_fPbnqHJjkdK",
        "outputId": "ba6bcd89-5edd-4ed9-8cc6-79e3f786a0bb"
      },
      "outputs": [
        {
          "name": "stdout",
          "output_type": "stream",
          "text": [
            "Logistic Regression : 0.9060\n",
            "Support Vector Machine : 0.9597\n",
            "Naive Bayes : 0.7383\n",
            "Decision Trees : 1.0000\n",
            "Stochastic Gradient Classifier : 0.8188\n"
          ]
        }
      ],
      "source": [
        "X = SystematicSample.drop('Class', axis=1)\n",
        "y = SystematicSample['Class']\n",
        "\n",
        "X_train, X_test, y_train, y_test = train_test_split(X, y, test_size=0.2, random_state=42)\n",
        "\n",
        "rf_model = RandomForestClassifier(random_state=42)\n",
        "lr_model = LogisticRegression()\n",
        "nb_model = GaussianNB()\n",
        "dt_model = DecisionTreeClassifier(random_state=42)\n",
        "sgd_model = SGDClassifier()\n",
        "\n",
        "models = [lr_model, svm_model, nb_model, dt_model, sgd_model]\n",
        "model_names = ['Logistic Regression', 'Support Vector Machine', 'Naive Bayes', 'Decision Trees', 'Stochastic Gradient Classifier']\n",
        "\n",
        "accuracies = []\n",
        "\n",
        "for model, name in zip(models, model_names):\n",
        "    model.fit(X_train, y_train)\n",
        "    y_pred = model.predict(X_test)\n",
        "    accuracy = accuracy_score(y_test, y_pred)\n",
        "    accuracies.append(accuracy)\n",
        "    print(f\"{name} : {accuracy:.4f}\")"
      ]
    },
    {
      "cell_type": "code",
      "execution_count": 11,
      "metadata": {
        "colab": {
          "base_uri": "https://localhost:8080/"
        },
        "id": "hmmYEuXyk9N-",
        "outputId": "54fcc792-d832-4305-f0fe-a67f4a5b24be"
      },
      "outputs": [
        {
          "name": "stdout",
          "output_type": "stream",
          "text": [
            "(513, 30)\n"
          ]
        }
      ],
      "source": [
        "#Cluster Sampling\n",
        "from sklearn.cluster import KMeans\n",
        "\n",
        "num_clusters = 10\n",
        "\n",
        "kmeans = KMeans(n_clusters=num_clusters, n_init='auto', random_state=42)\n",
        "\n",
        "clusters = kmeans.fit_predict(resample)\n",
        "clusters = pd.Series(clusters)\n",
        "\n",
        "selected_clusters = random.sample(range(num_clusters), 3)\n",
        "ClusterSample = resample.loc[clusters.isin(selected_clusters)]\n",
        "print(ClusterSample.shape)"
      ]
    },
    {
      "cell_type": "code",
      "execution_count": 12,
      "metadata": {
        "colab": {
          "base_uri": "https://localhost:8080/"
        },
        "id": "Scc2PM0Ck9KU",
        "outputId": "9e748c22-e89c-490c-be05-94fcc5c74965"
      },
      "outputs": [
        {
          "name": "stdout",
          "output_type": "stream",
          "text": [
            "Logistic Regression : 0.9612\n",
            "Support Vector Machine : 0.9709\n",
            "Naive Bayes : 1.0000\n",
            "Decision Trees : 1.0000\n",
            "Stochastic Gradient Classifier : 0.9806\n"
          ]
        }
      ],
      "source": [
        "X = ClusterSample.drop('Class', axis=1)\n",
        "y = ClusterSample['Class']\n",
        "\n",
        "X_train, X_test, y_train, y_test = train_test_split(X, y, test_size=0.2, random_state=42)\n",
        "\n",
        "rf_model = RandomForestClassifier(random_state=42)\n",
        "lr_model = LogisticRegression()\n",
        "nb_model = GaussianNB()\n",
        "dt_model = DecisionTreeClassifier(random_state=42)\n",
        "sgd_model = SGDClassifier()\n",
        "\n",
        "models = [lr_model, svm_model, nb_model, dt_model, sgd_model]\n",
        "model_names = ['Logistic Regression', 'Support Vector Machine', 'Naive Bayes', 'Decision Trees', 'Stochastic Gradient Classifier']\n",
        "\n",
        "accuracies = []\n",
        "\n",
        "for model, name in zip(models, model_names):\n",
        "    model.fit(X_train, y_train)\n",
        "    y_pred = model.predict(X_test)\n",
        "    accuracy = accuracy_score(y_test, y_pred)\n",
        "    accuracies.append(accuracy)\n",
        "    print(f\"{name} : {accuracy:.4f}\")"
      ]
    },
    {
      "cell_type": "code",
      "execution_count": 13,
      "metadata": {
        "colab": {
          "base_uri": "https://localhost:8080/"
        },
        "id": "ZAfmSAe5o1-R",
        "outputId": "079025b5-7d32-4dae-c860-3f222413c49b"
      },
      "outputs": [
        {
          "data": {
            "text/plain": [
              "(669, 30)"
            ]
          },
          "execution_count": 13,
          "metadata": {},
          "output_type": "execute_result"
        }
      ],
      "source": [
        "#Stratified Sampling\n",
        "n = int((1.96*1.96 * 0.5*0.5)/((0.05)**2))\n",
        "StratifiedSampling = resample.groupby('Class')\n",
        "StratifiedSample=StratifiedSampling.sample(frac= 0.45)\n",
        "StratifiedSample.shape"
      ]
    },
    {
      "cell_type": "code",
      "execution_count": 14,
      "metadata": {
        "colab": {
          "base_uri": "https://localhost:8080/"
        },
        "id": "8wwNJx0nsMVO",
        "outputId": "cf73eb78-b64a-4d23-bb13-daa32a06c472"
      },
      "outputs": [
        {
          "name": "stdout",
          "output_type": "stream",
          "text": [
            "Logistic Regression : 0.8731\n",
            "Support Vector Machine : 0.9478\n",
            "Naive Bayes : 0.7313\n",
            "Decision Trees : 0.9776\n",
            "Stochastic Gradient Classifier : 0.8806\n"
          ]
        }
      ],
      "source": [
        "X = StratifiedSample.drop('Class', axis=1)\n",
        "y = StratifiedSample['Class']\n",
        "\n",
        "X_train, X_test, y_train, y_test = train_test_split(X, y, test_size=0.2, random_state=42)\n",
        "\n",
        "rf_model = RandomForestClassifier(random_state=42)\n",
        "lr_model= LogisticRegression()\n",
        "nb_model = GaussianNB()\n",
        "dt_model = DecisionTreeClassifier(random_state=42)\n",
        "sgd_model = SGDClassifier()\n",
        "\n",
        "models = [lr_model, svm_model, nb_model, dt_model, sgd_model]\n",
        "model_names = ['Logistic Regression', 'Support Vector Machine', 'Naive Bayes', 'Decision Trees', 'Stochastic Gradient Classifier']\n",
        "\n",
        "accuracies = []\n",
        "\n",
        "for model, name in zip(models, model_names):\n",
        "    model.fit(X_train, y_train)\n",
        "    y_pred = model.predict(X_test)\n",
        "    accuracy = accuracy_score(y_test, y_pred)\n",
        "    accuracies.append(accuracy)\n",
        "    print(f\"{name} : {accuracy:.4f}\")"
      ]
    },
    {
      "cell_type": "code",
      "execution_count": 15,
      "metadata": {
        "colab": {
          "base_uri": "https://localhost:8080/"
        },
        "id": "MRKxdorKvvQ8",
        "outputId": "7a380217-313f-4497-cecb-f1a22eb6a77a"
      },
      "outputs": [
        {
          "name": "stdout",
          "output_type": "stream",
          "text": [
            "Final Shape of Bootstrap Samples DataFrame: (400, 30)\n"
          ]
        }
      ],
      "source": [
        "#Bootstrap Sampling\n",
        "n_bootstrap = 100\n",
        "desired_sample_size = 400\n",
        "BootstrapSamples = pd.DataFrame()\n",
        "for _ in range(n_bootstrap):\n",
        "    resampled_data = resample.sample(n=len(df), replace=True, random_state=42)\n",
        "    BootstrapSamples = pd.concat([BootstrapSamples, resampled_data])\n",
        "    if BootstrapSamples.shape[0] >= desired_sample_size:\n",
        "        break\n",
        "BootstrapSamples = BootstrapSamples.iloc[:desired_sample_size, :]\n",
        "print(\"Final Shape of Bootstrap Samples DataFrame:\", BootstrapSamples.shape)"
      ]
    },
    {
      "cell_type": "code",
      "execution_count": 17,
      "metadata": {
        "colab": {
          "base_uri": "https://localhost:8080/"
        },
        "id": "fGKNtKPPwHNR",
        "outputId": "8c4bc3f3-4ca1-4bca-ec80-ac96dd68fedc"
      },
      "outputs": [
        {
          "name": "stdout",
          "output_type": "stream",
          "text": [
            "Logistic Regression : 0.9250\n",
            "Support Vector Machine : 0.9750\n",
            "Naive Bayes : 0.6000\n",
            "Decision Trees : 0.9625\n",
            "Stochastic Gradient Classifier : 0.9750\n"
          ]
        }
      ],
      "source": [
        "X = BootstrapSamples.drop('Class', axis=1)\n",
        "y = BootstrapSamples['Class']\n",
        "\n",
        "X_train, X_test, y_train, y_test = train_test_split(X, y, test_size=0.2, random_state=42)\n",
        "\n",
        "rf_model = RandomForestClassifier(random_state=42)\n",
        "lr_model= LogisticRegression()\n",
        "nb_model = GaussianNB()\n",
        "dt_model = DecisionTreeClassifier(random_state=42)\n",
        "sgd_model = SGDClassifier()\n",
        "\n",
        "models = [lr_model, svm_model, nb_model, dt_model, sgd_model]\n",
        "model_names = ['Logistic Regression', 'Support Vector Machine', 'Naive Bayes', 'Decision Trees', 'Stochastic Gradient Classifier']\n",
        "\n",
        "accuracies = []\n",
        "\n",
        "for model, name in zip(models, model_names):\n",
        "    model.fit(X_train, y_train)\n",
        "    y_pred = model.predict(X_test)\n",
        "    accuracy = accuracy_score(y_test, y_pred)\n",
        "    accuracies.append(accuracy)\n",
        "    print(f\"{name} : {accuracy:.4f}\")"
      ]
    }
  ],
  "metadata": {
    "colab": {
      "provenance": []
    },
    "kernelspec": {
      "display_name": "Python 3",
      "name": "python3"
    },
    "language_info": {
      "codemirror_mode": {
        "name": "ipython",
        "version": 3
      },
      "file_extension": ".py",
      "mimetype": "text/x-python",
      "name": "python",
      "nbconvert_exporter": "python",
      "pygments_lexer": "ipython3",
      "version": "3.10.13"
    }
  },
  "nbformat": 4,
  "nbformat_minor": 0
}
